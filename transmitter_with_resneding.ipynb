{
  "nbformat": 4,
  "nbformat_minor": 0,
  "metadata": {
    "colab": {
      "private_outputs": true,
      "provenance": []
    },
    "kernelspec": {
      "name": "python3",
      "display_name": "Python 3"
    },
    "language_info": {
      "name": "python"
    }
  },
  "cells": [
    {
      "cell_type": "markdown",
      "source": [
        "**Description of scenario**: a transmitter tries to send data packets over a wireless channel with a bit error rate (BER) of 0.5. This means that each bit has a 50% chance of being corrupted during transmission. When an error occurs, the transmitter tries to resend the packet immediately."
      ],
      "metadata": {
        "id": "NOJ3rp6GFlv7"
      }
    },
    {
      "cell_type": "code",
      "execution_count": null,
      "metadata": {
        "id": "AMj8-A7ulcE6"
      },
      "outputs": [],
      "source": [
        "!pip install simpy"
      ]
    },
    {
      "cell_type": "code",
      "source": [
        "import simpy\n",
        "import random\n",
        "import statistics\n",
        "\n",
        "wait_times_1 = []\n",
        "wait_times_2 = []\n",
        "\n",
        "class network(object):\n",
        "    def __init__(self, env, num_servers_1, service_rate_1):\n",
        "        self.env = env\n",
        "        self.server_1 = simpy.Resource(env, 1)\n",
        "        self.service_rate_1 = service_rate_1\n",
        "\n",
        "    def Queue_1(self, customer, error=False):\n",
        "        if error:\n",
        "            yield self.env.timeout(random.expovariate(self.service_rate_1) + random.expovariate(self.service_rate_1))\n",
        "        else:\n",
        "            yield self.env.timeout(random.expovariate(self.service_rate_1))\n",
        "\n",
        "\n",
        "def go_to_queues(env, customer, network):\n",
        "    arrival_time = env.now\n",
        "    if random.random() >= 0.5:\n",
        "        with network.server_1.request() as request:\n",
        "            yield request\n",
        "            yield env.process(network.Queue_1(customer, error=True))\n",
        "\n",
        "        wait_times_2.append(env.now - arrival_time)\n",
        "    else:\n",
        "        with network.server_1.request() as request:\n",
        "            yield request\n",
        "            yield env.process(network.Queue_1(customer))\n",
        "\n",
        "        wait_times_1.append(env.now - arrival_time)\n",
        "\n",
        "\n",
        "def run_queues(env, arrival_rate, num_servers_1=1, service_rate_1=1):\n",
        "    net = network(env, num_servers_1, service_rate_1)\n",
        "\n",
        "    while True:\n",
        "        yield env.timeout(random.expovariate(arrival_rate))\n",
        "\n",
        "        customer =+ 1\n",
        "        env.process(go_to_queues(env, customer, net))\n",
        "\n",
        "\n",
        "def main(arrival_rate=1, service_rate_1=3, num_servers_1=1):\n",
        "    # Run the simulation\n",
        "    env = simpy.Environment()\n",
        "    env.process(run_queues(env, arrival_rate, num_servers_1, service_rate_1))\n",
        "    env.run(until=2*10**5)\n",
        "\n",
        "    # View the results\n",
        "    ave_1 = statistics.mean(wait_times_1)\n",
        "    ave_2 = statistics.mean(wait_times_2)\n",
        "    print(\n",
        "        f\"\\nThe average wait time for customer without resending is {ave_1}.\",\n",
        "        f\"\\nThe average wait time for customer with resending is {ave_2}.\"\n",
        "    )"
      ],
      "metadata": {
        "id": "ExiPovcf1zLa"
      },
      "execution_count": null,
      "outputs": []
    },
    {
      "cell_type": "code",
      "source": [
        "main()"
      ],
      "metadata": {
        "id": "btD6JVdD9cy9"
      },
      "execution_count": null,
      "outputs": []
    }
  ]
}